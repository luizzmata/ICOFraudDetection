{
 "cells": [
  {
   "cell_type": "code",
   "execution_count": 3,
   "metadata": {},
   "outputs": [],
   "source": [
    "import pandas as pd\n",
    "import os\n",
    "import re\n",
    "import pytz\n",
    "from datetime import datetime, timedelta\n",
    "import pickle\n",
    "from tensorflow.keras.models import Sequential\n",
    "from tensorflow.keras.metrics import Recall\n",
    "from tensorflow.keras.layers import Dense, Flatten, Dropout, Conv1D, MaxPooling1D\n",
    "from tensorflow.keras.wrappers.scikit_learn import KerasClassifier\n",
    "from tensorflow import keras"
   ]
  },
  {
   "cell_type": "code",
   "execution_count": 4,
   "metadata": {},
   "outputs": [],
   "source": [
    "df_info = pd.read_csv('lista_ico_2020-08-17_tab3.csv', sep=',')"
   ]
  },
  {
   "cell_type": "code",
   "execution_count": 5,
   "metadata": {},
   "outputs": [
    {
     "data": {
      "text/html": [
       "<div>\n",
       "<style scoped>\n",
       "    .dataframe tbody tr th:only-of-type {\n",
       "        vertical-align: middle;\n",
       "    }\n",
       "\n",
       "    .dataframe tbody tr th {\n",
       "        vertical-align: top;\n",
       "    }\n",
       "\n",
       "    .dataframe thead th {\n",
       "        text-align: right;\n",
       "    }\n",
       "</style>\n",
       "<table border=\"1\" class=\"dataframe\">\n",
       "  <thead>\n",
       "    <tr style=\"text-align: right;\">\n",
       "      <th></th>\n",
       "      <th>ico</th>\n",
       "      <th>adress</th>\n",
       "      <th>fraud</th>\n",
       "      <th>start_date</th>\n",
       "      <th>market_start_date</th>\n",
       "      <th>diff_days</th>\n",
       "      <th>market_days</th>\n",
       "      <th>size_ok</th>\n",
       "      <th>price</th>\n",
       "      <th>market_cap</th>\n",
       "      <th>o_concur</th>\n",
       "      <th>biggest_holder</th>\n",
       "      <th>exchange</th>\n",
       "      <th>contract</th>\n",
       "      <th>date_analysis</th>\n",
       "      <th>code</th>\n",
       "      <th>site</th>\n",
       "      <th>social_media</th>\n",
       "    </tr>\n",
       "  </thead>\n",
       "  <tbody>\n",
       "    <tr>\n",
       "      <th>0</th>\n",
       "      <td>0X</td>\n",
       "      <td>0xe41d2489571d322189246dafa5ebde1f4699f498</td>\n",
       "      <td>0</td>\n",
       "      <td>2017-08-11</td>\n",
       "      <td>2017-08-15</td>\n",
       "      <td>4</td>\n",
       "      <td>1124</td>\n",
       "      <td>NaN</td>\n",
       "      <td>NaN</td>\n",
       "      <td>45.0</td>\n",
       "      <td>x</td>\n",
       "      <td>2</td>\n",
       "      <td>6</td>\n",
       "      <td>14</td>\n",
       "      <td>2018-02-11</td>\n",
       "      <td>NaN</td>\n",
       "      <td>NaN</td>\n",
       "      <td>NaN</td>\n",
       "    </tr>\n",
       "    <tr>\n",
       "      <th>1</th>\n",
       "      <td>0XCERT</td>\n",
       "      <td>0x83e2be8d114f9661221384b3a50d24b96a5653f5</td>\n",
       "      <td>1</td>\n",
       "      <td>2018-06-26</td>\n",
       "      <td>2018-07-11</td>\n",
       "      <td>15</td>\n",
       "      <td>794</td>\n",
       "      <td>x</td>\n",
       "      <td>NaN</td>\n",
       "      <td>NaN</td>\n",
       "      <td>NaN</td>\n",
       "      <td>12</td>\n",
       "      <td>2</td>\n",
       "      <td>0</td>\n",
       "      <td>2019-01-07</td>\n",
       "      <td>x</td>\n",
       "      <td>x</td>\n",
       "      <td>x</td>\n",
       "    </tr>\n",
       "    <tr>\n",
       "      <th>2</th>\n",
       "      <td>4NEW</td>\n",
       "      <td>0x241ba672574a78a3a604cdd0a94429a73a84a324</td>\n",
       "      <td>1</td>\n",
       "      <td>2018-08-20</td>\n",
       "      <td>2018-08-20</td>\n",
       "      <td>0</td>\n",
       "      <td>754</td>\n",
       "      <td>x</td>\n",
       "      <td>NaN</td>\n",
       "      <td>NaN</td>\n",
       "      <td>NaN</td>\n",
       "      <td>50</td>\n",
       "      <td>7</td>\n",
       "      <td>0</td>\n",
       "      <td>2019-02-16</td>\n",
       "      <td>x</td>\n",
       "      <td>NaN</td>\n",
       "      <td>NaN</td>\n",
       "    </tr>\n",
       "    <tr>\n",
       "      <th>3</th>\n",
       "      <td>ABULABA</td>\n",
       "      <td>0xd938137e6d96c72e4a6085412ada2dad78ff89c4</td>\n",
       "      <td>1</td>\n",
       "      <td>2018-04-19</td>\n",
       "      <td>2018-12-16</td>\n",
       "      <td>241</td>\n",
       "      <td>636</td>\n",
       "      <td>NaN</td>\n",
       "      <td>x</td>\n",
       "      <td>NaN</td>\n",
       "      <td>NaN</td>\n",
       "      <td>13</td>\n",
       "      <td>7</td>\n",
       "      <td>41</td>\n",
       "      <td>2019-06-14</td>\n",
       "      <td>x</td>\n",
       "      <td>NaN</td>\n",
       "      <td>NaN</td>\n",
       "    </tr>\n",
       "    <tr>\n",
       "      <th>4</th>\n",
       "      <td>AELF</td>\n",
       "      <td>0xbf2179859fc6d5bee9bf9158632dc51678a4100e</td>\n",
       "      <td>0</td>\n",
       "      <td>2017-12-18</td>\n",
       "      <td>2017-12-21</td>\n",
       "      <td>3</td>\n",
       "      <td>996</td>\n",
       "      <td>NaN</td>\n",
       "      <td>NaN</td>\n",
       "      <td>154.0</td>\n",
       "      <td>x</td>\n",
       "      <td>13</td>\n",
       "      <td>10</td>\n",
       "      <td>0</td>\n",
       "      <td>2018-06-19</td>\n",
       "      <td>NaN</td>\n",
       "      <td>NaN</td>\n",
       "      <td>NaN</td>\n",
       "    </tr>\n",
       "  </tbody>\n",
       "</table>\n",
       "</div>"
      ],
      "text/plain": [
       "       ico                                      adress  fraud  start_date  \\\n",
       "0       0X  0xe41d2489571d322189246dafa5ebde1f4699f498      0  2017-08-11   \n",
       "1   0XCERT  0x83e2be8d114f9661221384b3a50d24b96a5653f5      1  2018-06-26   \n",
       "2     4NEW  0x241ba672574a78a3a604cdd0a94429a73a84a324      1  2018-08-20   \n",
       "3  ABULABA  0xd938137e6d96c72e4a6085412ada2dad78ff89c4      1  2018-04-19   \n",
       "4     AELF  0xbf2179859fc6d5bee9bf9158632dc51678a4100e      0  2017-12-18   \n",
       "\n",
       "  market_start_date  diff_days  market_days size_ok price  market_cap  \\\n",
       "0        2017-08-15          4         1124     NaN   NaN        45.0   \n",
       "1        2018-07-11         15          794       x   NaN         NaN   \n",
       "2        2018-08-20          0          754       x   NaN         NaN   \n",
       "3        2018-12-16        241          636     NaN     x         NaN   \n",
       "4        2017-12-21          3          996     NaN   NaN       154.0   \n",
       "\n",
       "  o_concur  biggest_holder  exchange  contract date_analysis code site  \\\n",
       "0        x               2         6        14    2018-02-11  NaN  NaN   \n",
       "1      NaN              12         2         0    2019-01-07    x    x   \n",
       "2      NaN              50         7         0    2019-02-16    x  NaN   \n",
       "3      NaN              13         7        41    2019-06-14    x  NaN   \n",
       "4        x              13        10         0    2018-06-19  NaN  NaN   \n",
       "\n",
       "  social_media  \n",
       "0          NaN  \n",
       "1            x  \n",
       "2          NaN  \n",
       "3          NaN  \n",
       "4          NaN  "
      ]
     },
     "execution_count": 5,
     "metadata": {},
     "output_type": "execute_result"
    }
   ],
   "source": [
    "df_info.head()"
   ]
  },
  {
   "cell_type": "code",
   "execution_count": 6,
   "metadata": {},
   "outputs": [],
   "source": [
    "with open('dict_arrays_length20.pickle','rb') as pickle_file:\n",
    "    dict_ico_len_20 = pickle.load(pickle_file) "
   ]
  },
  {
   "cell_type": "code",
   "execution_count": 7,
   "metadata": {},
   "outputs": [
    {
     "data": {
      "text/plain": [
       "('array_daily_transactions',\n",
       " 'array_perc_new_holders',\n",
       " 'array_biggest_holder',\n",
       " 'array_newbiers',\n",
       " 'array_gas_ratio',\n",
       " 'array_daily_transactions_ma',\n",
       " 'array_perc_new_holders_ma',\n",
       " 'array_biggest_holder_ma',\n",
       " 'array_newbiers_ma',\n",
       " 'array_gas_ratio_ma')"
      ]
     },
     "execution_count": 7,
     "metadata": {},
     "output_type": "execute_result"
    }
   ],
   "source": [
    "dict_ico_len_20.get('arrays')"
   ]
  },
  {
   "cell_type": "code",
   "execution_count": 8,
   "metadata": {},
   "outputs": [
    {
     "data": {
      "text/plain": [
       "('array_daily_transactions',\n",
       " 'array_perc_new_holders',\n",
       " 'array_biggest_holder',\n",
       " 'array_newbiers',\n",
       " 'array_gas_ratio',\n",
       " 'array_daily_transactions_ma',\n",
       " 'array_perc_new_holders_ma',\n",
       " 'array_biggest_holder_ma',\n",
       " 'array_newbiers_ma',\n",
       " 'array_gas_ratio_ma')"
      ]
     },
     "execution_count": 8,
     "metadata": {},
     "output_type": "execute_result"
    }
   ],
   "source": [
    "dict_ico_len_20.pop('arrays')"
   ]
  },
  {
   "cell_type": "code",
   "execution_count": 9,
   "metadata": {},
   "outputs": [],
   "source": [
    "dict_perc_transactions = {k:v[0] for k,v in dict_ico_len_20.items() if len(v[0]) == 20}\n",
    "dict_perc_new_holders = {k:v[1] for k,v in dict_ico_len_20.items() if len(v[1]) == 20}\n",
    "dict_perc_big_holder = {k:v[2] for k,v in dict_ico_len_20.items() if len(v[2]) == 20}\n",
    "dict_perc_newbiers = {k:v[3] for k,v in dict_ico_len_20.items() if len(v[3]) == 20}\n",
    "dict_gas_ratio = {k:v[4] for k,v in dict_ico_len_20.items() if len(v[4]) == 20}\n",
    "dict_perc_transactions_ma = {k:v[5] for k,v in dict_ico_len_20.items() if len(v[5]) == 20}\n",
    "dict_perc_new_holders_ma = {k:v[6] for k,v in dict_ico_len_20.items() if len(v[6]) == 20}\n",
    "dict_perc_big_holder_ma = {k:v[7] for k,v in dict_ico_len_20.items() if len(v[7]) == 20}\n",
    "dict_perc_newbiers_ma = {k:v[8] for k,v in dict_ico_len_20.items() if len(v[8]) == 20}\n",
    "dict_gas_ratio_ma = {k:v[9] for k,v in dict_ico_len_20.items() if len(v[9]) == 20}"
   ]
  },
  {
   "cell_type": "code",
   "execution_count": 10,
   "metadata": {},
   "outputs": [],
   "source": [
    "df_transactions = pd.DataFrame(dict_perc_transactions).T\n",
    "df_new_holders = pd.DataFrame(dict_perc_new_holders).T\n",
    "df_big_holder = pd.DataFrame(dict_perc_big_holder).T\n",
    "df_newbiers = pd.DataFrame(dict_perc_newbiers).T\n",
    "df_gasratio = pd.DataFrame(dict_gas_ratio).T\n",
    "df_transactions_ma = pd.DataFrame(dict_perc_transactions_ma).T\n",
    "df_new_holders_ma = pd.DataFrame(dict_perc_new_holders_ma).T\n",
    "df_big_holder_ma = pd.DataFrame(dict_perc_big_holder_ma).T\n",
    "df_newbiers_ma = pd.DataFrame(dict_perc_newbiers_ma).T\n",
    "df_gasratio_ma = pd.DataFrame(dict_gas_ratio_ma).T"
   ]
  },
  {
   "cell_type": "code",
   "execution_count": 11,
   "metadata": {},
   "outputs": [],
   "source": [
    "df_training_transactions = df_transactions.merge(df_info[['ico','fraud']], left_index=True, right_on='ico')\n",
    "df_training_transactions.set_index('ico', inplace=True)\n",
    "\n",
    "df_training_new_holders = df_new_holders.merge(df_info[['ico','fraud']], left_index=True, right_on='ico')\n",
    "df_training_new_holders.set_index('ico', inplace=True)\n",
    "\n",
    "df_training_big_holder = df_big_holder.merge(df_info[['ico','fraud']], left_index=True, right_on='ico')\n",
    "df_training_big_holder.set_index('ico', inplace=True)\n",
    "\n",
    "df_training_newbiers = df_newbiers.merge(df_info[['ico','fraud']], left_index=True, right_on='ico')\n",
    "df_training_newbiers.set_index('ico', inplace=True)\n",
    "\n",
    "df_training_gasratio = df_gasratio.merge(df_info[['ico','fraud']], left_index=True, right_on='ico')\n",
    "df_training_gasratio.set_index('ico', inplace=True)"
   ]
  },
  {
   "cell_type": "code",
   "execution_count": 12,
   "metadata": {},
   "outputs": [],
   "source": [
    "df_training_transactions_ma = df_transactions_ma.merge(df_info[['ico','fraud']], left_index=True, right_on='ico')\n",
    "df_training_transactions_ma.set_index('ico', inplace=True)\n",
    "\n",
    "df_training_new_holders_ma = df_new_holders_ma.merge(df_info[['ico','fraud']], left_index=True, right_on='ico')\n",
    "df_training_new_holders_ma.set_index('ico', inplace=True)\n",
    "\n",
    "df_training_big_holder_ma = df_big_holder_ma.merge(df_info[['ico','fraud']], left_index=True, right_on='ico')\n",
    "df_training_big_holder_ma.set_index('ico', inplace=True)\n",
    "\n",
    "df_training_newbiers_ma = df_newbiers_ma.merge(df_info[['ico','fraud']], left_index=True, right_on='ico')\n",
    "df_training_newbiers_ma.set_index('ico', inplace=True)\n",
    "\n",
    "df_training_gasratio_ma = df_gasratio_ma.merge(df_info[['ico','fraud']], left_index=True, right_on='ico')\n",
    "df_training_gasratio_ma.set_index('ico', inplace=True)"
   ]
  },
  {
   "cell_type": "code",
   "execution_count": 13,
   "metadata": {},
   "outputs": [],
   "source": [
    "from ico_parser import ICODeepTraining"
   ]
  },
  {
   "cell_type": "code",
   "execution_count": 14,
   "metadata": {},
   "outputs": [],
   "source": [
    "model_mlp = Sequential()\n",
    "model_mlp.add(Dense(20, input_dim=20, activation='relu'))\n",
    "model_mlp.add(Dense(30, activation='relu'))\n",
    "model_mlp.add(Dense(20, activation='relu'))\n",
    "model_mlp.add(Dense(10, activation='relu'))\n",
    "model_mlp.add(Dense(1, activation='sigmoid'))"
   ]
  },
  {
   "cell_type": "code",
   "execution_count": 15,
   "metadata": {},
   "outputs": [
    {
     "name": "stdout",
     "output_type": "stream",
     "text": [
      "Model: \"sequential\"\n",
      "_________________________________________________________________\n",
      "Layer (type)                 Output Shape              Param #   \n",
      "=================================================================\n",
      "dense (Dense)                (None, 20)                420       \n",
      "_________________________________________________________________\n",
      "dense_1 (Dense)              (None, 30)                630       \n",
      "_________________________________________________________________\n",
      "dense_2 (Dense)              (None, 20)                620       \n",
      "_________________________________________________________________\n",
      "dense_3 (Dense)              (None, 10)                210       \n",
      "_________________________________________________________________\n",
      "dense_4 (Dense)              (None, 1)                 11        \n",
      "=================================================================\n",
      "Total params: 1,891\n",
      "Trainable params: 1,891\n",
      "Non-trainable params: 0\n",
      "_________________________________________________________________\n"
     ]
    }
   ],
   "source": [
    "ico_training = ICODeepTraining(df_training_transactions.iloc[:, :-1],\n",
    "                               df_training_transactions.iloc[:, -1],\n",
    "                               model_mlp,\n",
    "                               ann_type='mlp',\n",
    "                               size_array=20)\n",
    "                               \n",
    "ico_training.split_train_test()\n",
    "ico_training.model_summary()"
   ]
  },
  {
   "cell_type": "code",
   "execution_count": null,
   "metadata": {},
   "outputs": [],
   "source": []
  },
  {
   "cell_type": "code",
   "execution_count": 16,
   "metadata": {},
   "outputs": [
    {
     "ename": "NameError",
     "evalue": "name 'earlystop' is not defined",
     "output_type": "error",
     "traceback": [
      "\u001b[0;31m---------------------------------------------------------------------------\u001b[0m",
      "\u001b[0;31mNameError\u001b[0m                                 Traceback (most recent call last)",
      "\u001b[0;32m<ipython-input-16-b87554b69e85>\u001b[0m in \u001b[0;36m<module>\u001b[0;34m\u001b[0m\n\u001b[1;32m      5\u001b[0m                       \u001b[0mverbose\u001b[0m\u001b[0;34m=\u001b[0m\u001b[0;36m0\u001b[0m\u001b[0;34m,\u001b[0m\u001b[0;34m\u001b[0m\u001b[0;34m\u001b[0m\u001b[0m\n\u001b[1;32m      6\u001b[0m                       \u001b[0mbatch_size\u001b[0m\u001b[0;34m=\u001b[0m\u001b[0;36m32\u001b[0m\u001b[0;34m,\u001b[0m\u001b[0;34m\u001b[0m\u001b[0;34m\u001b[0m\u001b[0m\n\u001b[0;32m----> 7\u001b[0;31m                       callback=earlystop)\n\u001b[0m\u001b[1;32m      8\u001b[0m \u001b[0;34m\u001b[0m\u001b[0m\n\u001b[1;32m      9\u001b[0m \u001b[0mico_training\u001b[0m\u001b[0;34m.\u001b[0m\u001b[0mplot_training\u001b[0m\u001b[0;34m(\u001b[0m\u001b[0;34m)\u001b[0m\u001b[0;34m\u001b[0m\u001b[0;34m\u001b[0m\u001b[0m\n",
      "\u001b[0;31mNameError\u001b[0m: name 'earlystop' is not defined"
     ]
    }
   ],
   "source": [
    "ico_training.train_network(loss='binary_crossentropy', \n",
    "                      optimizer='adam',\n",
    "                      metrics=['recall'] ,\n",
    "                      epochs=100,\n",
    "                      verbose=0, \n",
    "                      batch_size=32,\n",
    "                      callback=earlystop)\n",
    "\n",
    "ico_training.plot_training()"
   ]
  },
  {
   "cell_type": "code",
   "execution_count": null,
   "metadata": {},
   "outputs": [],
   "source": []
  }
 ],
 "metadata": {
  "kernelspec": {
   "display_name": "Python 3",
   "language": "python",
   "name": "python3"
  },
  "language_info": {
   "codemirror_mode": {
    "name": "ipython",
    "version": 3
   },
   "file_extension": ".py",
   "mimetype": "text/x-python",
   "name": "python",
   "nbconvert_exporter": "python",
   "pygments_lexer": "ipython3",
   "version": "3.7.3"
  }
 },
 "nbformat": 4,
 "nbformat_minor": 4
}
